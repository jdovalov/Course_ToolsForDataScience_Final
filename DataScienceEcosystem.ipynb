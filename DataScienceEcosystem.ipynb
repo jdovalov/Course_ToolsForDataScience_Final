{
 "cells": [
  {
   "cell_type": "markdown",
   "id": "aea4e00c-48b9-4c93-8319-02a3ed10ab98",
   "metadata": {},
   "source": [
    "# Data Science Tools and Ecosystem"
   ]
  },
  {
   "cell_type": "markdown",
   "id": "d600180c-5f1d-4b99-af74-23066a85fd04",
   "metadata": {},
   "source": [
    "In this notebook, Data Science Tools and Ecosystem are summarized."
   ]
  },
  {
   "cell_type": "markdown",
   "id": "ad0682d4-ccba-423a-8002-920d554e3735",
   "metadata": {},
   "source": [
    "Some of the popular languages that Data Scientists use are:\n",
    "1. Python\n",
    "2. Java\n",
    "3. SQL"
   ]
  },
  {
   "cell_type": "markdown",
   "id": "c9cfe710-2c9f-45da-a272-36d57e8f2e1e",
   "metadata": {},
   "source": [
    "Some of the commonly used libraries used by Data Scientists include:\n",
    "1. Scikit-Learn\n",
    "2. TensorFlow\n",
    "3. Pandas"
   ]
  },
  {
   "cell_type": "markdown",
   "id": "dab77e1e-a0bf-4776-8748-4c059a6f83ff",
   "metadata": {},
   "source": [
    "|Data Science Tools|\n",
    "|------------------|\n",
    "|Anaconda|\n",
    "|RStudio|\n",
    "|JupyterLab|"
   ]
  },
  {
   "cell_type": "markdown",
   "id": "8d0e9638-b6dc-4c0c-a9ab-b1b478c49f45",
   "metadata": {},
   "source": [
    "Below are a few examples of evaluating arithmetic expressions in Python"
   ]
  },
  {
   "cell_type": "code",
   "execution_count": 11,
   "id": "0dd9dd19-8e5f-4523-bb81-022da11f1c63",
   "metadata": {},
   "outputs": [
    {
     "data": {
      "text/plain": [
       "17"
      ]
     },
     "execution_count": 11,
     "metadata": {},
     "output_type": "execute_result"
    }
   ],
   "source": [
    "#This a simple arithmetic expression to mutiply then add integers\n",
    "(3*4)+5"
   ]
  },
  {
   "cell_type": "code",
   "execution_count": 13,
   "id": "90308052-63ca-4846-bb20-699d68867664",
   "metadata": {},
   "outputs": [
    {
     "data": {
      "text/plain": [
       "3.3333333333333335"
      ]
     },
     "execution_count": 13,
     "metadata": {},
     "output_type": "execute_result"
    }
   ],
   "source": [
    "#This will convert 200 minutes to hours by diving by 60\n",
    "200/60"
   ]
  },
  {
   "cell_type": "markdown",
   "id": "21e7d427-8a30-49f7-bd1b-c7916c4651d4",
   "metadata": {},
   "source": [
    "**Objectives:**\n",
    "* List popular languages for Data Science\n",
    "* Learn basic Python and R\n",
    "* Get experience with data science environments \n",
    "* Explore open data sets"
   ]
  },
  {
   "cell_type": "markdown",
   "id": "1c00ea27-6da2-4375-89ee-8e73c66cd422",
   "metadata": {},
   "source": [
    "## Author\n",
    "Jef"
   ]
  },
  {
   "cell_type": "code",
   "execution_count": null,
   "id": "2e47dd68-a4b6-41dd-b4e6-2919e2ad4e2a",
   "metadata": {},
   "outputs": [],
   "source": []
  }
 ],
 "metadata": {
  "kernelspec": {
   "display_name": "Python [conda env:base] *",
   "language": "python",
   "name": "conda-base-py"
  },
  "language_info": {
   "codemirror_mode": {
    "name": "ipython",
    "version": 3
   },
   "file_extension": ".py",
   "mimetype": "text/x-python",
   "name": "python",
   "nbconvert_exporter": "python",
   "pygments_lexer": "ipython3",
   "version": "3.12.7"
  }
 },
 "nbformat": 4,
 "nbformat_minor": 5
}
